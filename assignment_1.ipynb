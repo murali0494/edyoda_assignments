{
 "cells": [
  {
   "cell_type": "code",
   "execution_count": 2,
   "id": "b336e214",
   "metadata": {},
   "outputs": [
    {
     "name": "stdout",
     "output_type": "stream",
     "text": [
      "Please enter the string input to reverse :Edyoda\n",
      "The reverse of Edyoda is :adoydE\n"
     ]
    }
   ],
   "source": [
    "#Python program that accepts a word from the user and reverse it\n",
    "def reverse():\n",
    "    a = input(\"Please enter the string input to reverse :\")\n",
    "    b=''\n",
    "    for x in a[::-1]:\n",
    "        b=b+x\n",
    "    print(\"The reverse of \"+a+\" is :\"+b)\n",
    "reverse()"
   ]
  },
  {
   "cell_type": "code",
   "execution_count": 5,
   "id": "5ec6954a",
   "metadata": {},
   "outputs": [
    {
     "name": "stdout",
     "output_type": "stream",
     "text": [
      "1\n",
      "1\n",
      "2\n",
      "3\n",
      "5\n",
      "8\n",
      "13\n",
      "21\n",
      "34\n"
     ]
    }
   ],
   "source": [
    "#Python program to get the Fibonacci series between 0 to 50\n",
    "def fibonacci():\n",
    "    x,y=0,1\n",
    "\n",
    "    while y<50:\n",
    "        print(y)\n",
    "        x,y = y,x+y\n",
    "fibonacci()"
   ]
  },
  {
   "cell_type": "code",
   "execution_count": 6,
   "id": "04a4eed1",
   "metadata": {},
   "outputs": [
    {
     "name": "stdout",
     "output_type": "stream",
     "text": [
      "Number of even numbers : 4\n",
      "Number of odd numbers : 5\n"
     ]
    }
   ],
   "source": [
    "#Python program to count the number of even and odd numbers from a series of numbers\n",
    "numbers = (1, 2, 3, 4, 5, 6, 7, 8, 9)\n",
    "count_odd = 0\n",
    "count_even = 0\n",
    "for x in numbers:\n",
    "        if not x % 2:\n",
    "             count_even+=1\n",
    "        else:\n",
    "             count_odd+=1\n",
    "print(\"Number of even numbers :\",count_even)\n",
    "print(\"Number of odd numbers :\",count_odd)"
   ]
  },
  {
   "cell_type": "code",
   "execution_count": null,
   "id": "d96b88e1",
   "metadata": {},
   "outputs": [],
   "source": []
  },
  {
   "cell_type": "code",
   "execution_count": null,
   "id": "4037ed4e",
   "metadata": {},
   "outputs": [],
   "source": []
  }
 ],
 "metadata": {
  "kernelspec": {
   "display_name": "Python 3 (ipykernel)",
   "language": "python",
   "name": "python3"
  },
  "language_info": {
   "codemirror_mode": {
    "name": "ipython",
    "version": 3
   },
   "file_extension": ".py",
   "mimetype": "text/x-python",
   "name": "python",
   "nbconvert_exporter": "python",
   "pygments_lexer": "ipython3",
   "version": "3.9.9"
  }
 },
 "nbformat": 4,
 "nbformat_minor": 5
}
