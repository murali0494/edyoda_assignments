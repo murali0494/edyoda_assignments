{
 "cells": [
  {
   "cell_type": "code",
   "execution_count": 3,
   "id": "88c90627",
   "metadata": {},
   "outputs": [
    {
     "name": "stdout",
     "output_type": "stream",
     "text": [
      "20\n"
     ]
    }
   ],
   "source": [
    "#function to sum all the numbers in a list.\n",
    "\n",
    "def sum(num):\n",
    "    total = 0\n",
    "    for x in num:\n",
    "        total += x\n",
    "    return total\n",
    "print(sum((8,2,3,0,7)))\n"
   ]
  },
  {
   "cell_type": "code",
   "execution_count": 8,
   "id": "fc1029d0",
   "metadata": {},
   "outputs": [
    {
     "name": "stdout",
     "output_type": "stream",
     "text": [
      "20\n"
     ]
    }
   ],
   "source": [
    "def sum(*num):\n",
    "    Z = num[0]+num[1]+num[2]+num[3]+num[4]\n",
    "    return Z\n",
    "result = sum(8,2,3,0,7)\n",
    "print(result)"
   ]
  },
  {
   "cell_type": "code",
   "execution_count": 20,
   "id": "9acaf9d0",
   "metadata": {},
   "outputs": [
    {
     "name": "stdout",
     "output_type": "stream",
     "text": [
      "dcba4321\n"
     ]
    }
   ],
   "source": [
    "#reverse a string.\n",
    "string = \"1234abcd\"\n",
    "def reverse_string():\n",
    "    for i in string:\n",
    "        new_string=0\n",
    "        new_string=string[::-1]\n",
    "        return new_string\n",
    "print(reverse_string())"
   ]
  },
  {
   "cell_type": "code",
   "execution_count": 27,
   "id": "4b19a64f",
   "metadata": {},
   "outputs": [
    {
     "name": "stdout",
     "output_type": "stream",
     "text": [
      "dcba4321\n"
     ]
    }
   ],
   "source": [
    "def rev(string):\n",
    "    rev = string[::-1]\n",
    "    return rev\n",
    "print(rev(\"1234abcd\"))"
   ]
  },
  {
   "cell_type": "code",
   "execution_count": 46,
   "id": "a41da0f5",
   "metadata": {},
   "outputs": [
    {
     "name": "stdout",
     "output_type": "stream",
     "text": [
      "Upper case: 3\n",
      "Lower case: 12\n"
     ]
    }
   ],
   "source": [
    "#function that accepts a string and calculate the number of upper case letters and lower case letters\n",
    "def up_lo(str):\n",
    "    up=0\n",
    "    lo=0\n",
    "    for i in str:\n",
    "        if i.isupper():\n",
    "            up+=1\n",
    "        elif i.islower():\n",
    "                lo+=1\n",
    "    print(\"Upper case:\",up)\n",
    "    print(\"Lower case:\",lo)\n",
    "up_lo(\"The quick Brow Fox\")\n",
    "           "
   ]
  },
  {
   "cell_type": "code",
   "execution_count": null,
   "id": "00f1d454",
   "metadata": {},
   "outputs": [],
   "source": []
  }
 ],
 "metadata": {
  "kernelspec": {
   "display_name": "Python 3 (ipykernel)",
   "language": "python",
   "name": "python3"
  },
  "language_info": {
   "codemirror_mode": {
    "name": "ipython",
    "version": 3
   },
   "file_extension": ".py",
   "mimetype": "text/x-python",
   "name": "python",
   "nbconvert_exporter": "python",
   "pygments_lexer": "ipython3",
   "version": "3.9.9"
  }
 },
 "nbformat": 4,
 "nbformat_minor": 5
}
