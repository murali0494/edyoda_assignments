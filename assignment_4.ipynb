{
 "cells": [
  {
   "cell_type": "code",
   "execution_count": 11,
   "id": "f8d5ea7c",
   "metadata": {},
   "outputs": [
    {
     "name": "stdout",
     "output_type": "stream",
     "text": [
      "sample input: 10\n",
      "sample output: 35\n"
     ]
    }
   ],
   "source": [
    "#lambda function that adds 25 to a given number passed in as an argument.\n",
    "f = lambda a,b:a+b \n",
    "print('sample input:',10)\n",
    "print('sample output:',f(25,10))\n",
    "\n",
    "\n"
   ]
  },
  {
   "cell_type": "code",
   "execution_count": 9,
   "id": "3be50398",
   "metadata": {},
   "outputs": [
    {
     "name": "stdout",
     "output_type": "stream",
     "text": [
      "35\n"
     ]
    }
   ],
   "source": [
    "f = lambda a:a+25\n",
    "print(f(10))"
   ]
  },
  {
   "cell_type": "code",
   "execution_count": 14,
   "id": "0d7428ff",
   "metadata": {},
   "outputs": [
    {
     "name": "stdout",
     "output_type": "stream",
     "text": [
      "sample list: [1, 2, 3, 4, 5, 6, 7]\n",
      "triple of list:\n",
      "[3, 6, 9, 12, 15, 18, 21]\n"
     ]
    }
   ],
   "source": [
    "#triple all numbers of a given list of integers. Using Python map.\n",
    "nums=[1,2,3,4,5,6,7]\n",
    "print('sample list:',nums)\n",
    "triple=map(lambda n:n*3,nums)\n",
    "print('triple of list:')\n",
    "print(list(triple))\n",
    "\n"
   ]
  },
  {
   "cell_type": "code",
   "execution_count": 16,
   "id": "84204bba",
   "metadata": {},
   "outputs": [
    {
     "name": "stdout",
     "output_type": "stream",
     "text": [
      "sample list: [4, 5, 2, 9]\n",
      "suare element of list:\n",
      "[16, 25, 4, 81]\n"
     ]
    }
   ],
   "source": [
    "#square the elements of a list using map() function\n",
    "nums=[4,5,2,9]\n",
    "print('sample list:',nums)\n",
    "square=map(lambda n:n*n,nums)\n",
    "print('suare element of list:')\n",
    "print(list(square))\n",
    "\n"
   ]
  },
  {
   "cell_type": "code",
   "execution_count": null,
   "id": "a6f9ba27",
   "metadata": {},
   "outputs": [],
   "source": []
  }
 ],
 "metadata": {
  "kernelspec": {
   "display_name": "Python 3 (ipykernel)",
   "language": "python",
   "name": "python3"
  },
  "language_info": {
   "codemirror_mode": {
    "name": "ipython",
    "version": 3
   },
   "file_extension": ".py",
   "mimetype": "text/x-python",
   "name": "python",
   "nbconvert_exporter": "python",
   "pygments_lexer": "ipython3",
   "version": "3.9.9"
  }
 },
 "nbformat": 4,
 "nbformat_minor": 5
}
